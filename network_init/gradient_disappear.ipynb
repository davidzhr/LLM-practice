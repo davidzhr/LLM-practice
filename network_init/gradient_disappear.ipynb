{
 "cells": [
  {
   "cell_type": "code",
   "execution_count": 5,
   "id": "d6d7f97b-ad26-4ecc-ad84-91e4a59123cd",
   "metadata": {
    "execution": {
     "iopub.execute_input": "2023-06-25T08:24:41.295395Z",
     "iopub.status.busy": "2023-06-25T08:24:41.294874Z",
     "iopub.status.idle": "2023-06-25T08:24:41.298484Z",
     "shell.execute_reply": "2023-06-25T08:24:41.297925Z",
     "shell.execute_reply.started": "2023-06-25T08:24:41.295372Z"
    }
   },
   "outputs": [],
   "source": [
    "\r\n",
    "import numpy as np\r\n",
    "import matplotlib.pyplot as plt\r\n",
    "import torch\r\n",
    "import torch.nn.functional as F \r\n"
   ]
  },
  {
   "cell_type": "code",
   "execution_count": 6,
   "id": "3515f36d-43b7-40ff-9d25-f41a88d52bac",
   "metadata": {
    "execution": {
     "iopub.execute_input": "2023-06-25T08:24:43.266541Z",
     "iopub.status.busy": "2023-06-25T08:24:43.265992Z",
     "iopub.status.idle": "2023-06-25T08:24:43.329496Z",
     "shell.execute_reply": "2023-06-25T08:24:43.328838Z",
     "shell.execute_reply.started": "2023-06-25T08:24:43.266515Z"
    }
   },
   "outputs": [],
   "source": [
    "# 输入的数据是2000条， 维度是800\r\n",
    "data = torch.Tensor(np.random.randn(2000, 800).astype('float32'))\r\n",
    "# 一共10层， 实际上网络参数是9个， 依次为800*750, 750*700, ...\r\n",
    "layer_sizes = [800 - 50 * i for i in range(0,10)]\r\n",
    "\r\n",
    "# 网络的总层数： 10\r\n",
    "num_layers = len(layer_sizes)\r\n",
    "\r\n"
   ]
  },
  {
   "cell_type": "code",
   "execution_count": 7,
   "id": "c4d48de5-e9b5-415b-9181-2ad95c057ff8",
   "metadata": {
    "execution": {
     "iopub.execute_input": "2023-06-25T08:24:45.441298Z",
     "iopub.status.busy": "2023-06-25T08:24:45.440760Z",
     "iopub.status.idle": "2023-06-25T08:24:45.966451Z",
     "shell.execute_reply": "2023-06-25T08:24:45.965720Z",
     "shell.execute_reply.started": "2023-06-25T08:24:45.441273Z"
    }
   },
   "outputs": [],
   "source": [
    "# 通过向前转播， 计算每一层的大小\r\n",
    "fcs = []\r\n",
    "for i in range(0, num_layers - 1):\r\n",
    "    # 如果是第一层, 直接输入原始数据， 否是获取上一层的数据\r\n",
    "    X = data if i == 0 else fcs[i-1]\r\n",
    "    # 获取参数的维度\r\n",
    "    node_in = layer_sizes[i]\r\n",
    "    node_out = layer_sizes[i + 1]\r\n",
    "    #初始化参数为均值为0， 方差为0.01的正态分布\r\n",
    "    W = torch.Tensor(np.random.randn(node_in, node_out).astype('float32'))*0.01\r\n",
    "    # 矩阵乘法， 并使用tanh作为激活函数\r\n",
    "    fc = torch.matmul(X, W)\r\n",
    "    fc = F.tanh(fc)\r\n",
    "    # 输出结果保存在内存中\r\n",
    "    fcs.append(fc)\r\n"
   ]
  },
  {
   "cell_type": "code",
   "execution_count": 16,
   "id": "d4ea1fc0-39e7-4e53-977a-af5722eb332a",
   "metadata": {
    "execution": {
     "iopub.execute_input": "2023-06-25T08:33:50.614395Z",
     "iopub.status.busy": "2023-06-25T08:33:50.613730Z",
     "iopub.status.idle": "2023-06-25T08:33:50.641097Z",
     "shell.execute_reply": "2023-06-25T08:33:50.640432Z",
     "shell.execute_reply.started": "2023-06-25T08:33:50.614372Z"
    }
   },
   "outputs": [
    {
     "name": "stdout",
     "output_type": "stream",
     "text": [
      "input mean 0.00027 and std  1.00029\n",
      "layer 1 mean  0.00018 and std  0.26394\n",
      "layer 2 mean  0.00008 and std  0.07197\n",
      "layer 3 mean  0.00003 and std  0.01904\n",
      "layer 4 mean  0.00000 and std  0.00484\n",
      "layer 5 mean -0.00000 and std  0.00118\n",
      "layer 6 mean  0.00000 and std  0.00028\n",
      "layer 7 mean  0.00000 and std  0.00006\n",
      "layer 8 mean -0.00000 and std  0.00001\n",
      "layer 9 mean -0.00000 and std  0.00000\n"
     ]
    }
   ],
   "source": [
    "# 对各层的均值和方差进行打印\r\n",
    "print('input mean {0:.5f} and std {1: .5f}'.format(np.mean(data.numpy()), np.std(data.numpy())))\r\n",
    "for idx, fc in enumerate(fcs):\r\n",
    "    print('layer {0} mean {1: .5f} and std {2: .5f}'.format(idx+1, np.mean(fc.numpy()), np.std(fc.numpy())))\r\n",
    "\r\n"
   ]
  },
  {
   "cell_type": "code",
   "execution_count": null,
   "id": "5e20e966-2fd8-45ec-ac70-567421393280",
   "metadata": {},
   "outputs": [],
   "source": [
    "# 绘制直方图\r\n",
    "for idx, fc in enumerate(fcs):\r\n",
    "    plt.subplot(1, len(fcs), idx+1)\r\n",
    "    # 绘制直方图的30个bin\r\n",
    "    plt.hist(fc.numpy().flatten(), 30, range=[-1,1])\r\n",
    "    plt"
   ]
  }
 ],
 "metadata": {
  "kernelspec": {
   "display_name": "Python 3 (ipykernel)",
   "language": "python",
   "name": "python3"
  },
  "language_info": {
   "codemirror_mode": {
    "name": "ipython",
    "version": 3
   },
   "file_extension": ".py",
   "mimetype": "text/x-python",
   "name": "python",
   "nbconvert_exporter": "python",
   "pygments_lexer": "ipython3",
   "version": "3.10.0"
  }
 },
 "nbformat": 4,
 "nbformat_minor": 5
}
