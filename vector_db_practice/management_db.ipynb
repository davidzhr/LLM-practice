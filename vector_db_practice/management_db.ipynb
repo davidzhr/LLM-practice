{
 "cells": [
  {
   "cell_type": "code",
   "execution_count": 8,
   "outputs": [],
   "source": [
    "from pymilvus import connections, Role\n",
    "\n",
    "_HOST = '127.0.0.1'\n",
    "_PORT = '19531'\n",
    "_ROOT = \"root\"\n",
    "_ROOT_PASSWORD = \"Milvus\"\n",
    "_ROLE_NAME = \"test_role\"\n",
    "_PRIVILEGE_INSERT = \"Insert\"\n",
    "\n",
    "\n",
    "def connect_to_milvus(db_name=\"default\"):\n",
    "    print(f\"connect to milvus\\n\")\n",
    "    connections.connect(host=_HOST, port=_PORT, db_name=db_name)\n"
   ],
   "metadata": {
    "collapsed": false,
    "ExecuteTime": {
     "end_time": "2023-06-30T10:00:05.473706200Z",
     "start_time": "2023-06-30T10:00:05.469705500Z"
    }
   }
  },
  {
   "cell_type": "code",
   "execution_count": 9,
   "outputs": [
    {
     "name": "stderr",
     "output_type": "stream",
     "text": [
      "\u001B[93m[__internal_register] retry:4, cost: 0.27s, reason: <_InactiveRpcError: StatusCode.UNAVAILABLE, internal: Milvus Proxy is not ready yet. please wait>\u001B[0m\n"
     ]
    },
    {
     "name": "stdout",
     "output_type": "stream",
     "text": [
      "connect to milvus\n",
      "\n"
     ]
    },
    {
     "name": "stderr",
     "output_type": "stream",
     "text": [
      "\u001B[93m[__internal_register] retry:5, cost: 0.81s, reason: <_InactiveRpcError: StatusCode.UNAVAILABLE, internal: Milvus Proxy is not ready yet. please wait>\u001B[0m\n",
      "\u001B[93m[__internal_register] retry:6, cost: 2.43s, reason: <_InactiveRpcError: StatusCode.UNAVAILABLE, internal: Milvus Proxy is not ready yet. please wait>\u001B[0m\n",
      "\u001B[93m[__internal_register] retry:7, cost: 7.29s, reason: <_InactiveRpcError: StatusCode.UNAVAILABLE, internal: Milvus Proxy is not ready yet. please wait>\u001B[0m\n",
      "\u001B[93m[__internal_register] retry:8, cost: 21.87s, reason: <_InactiveRpcError: StatusCode.UNAVAILABLE, internal: Milvus Proxy is not ready yet. please wait>\u001B[0m\n",
      "RPC error: [grant_privilege], <MilvusException: (code=1, message=fail to get authorization from the md, authorize:[authorization])>, <Time:{'RPC start': '2023-06-30 18:00:40.464261', 'RPC error': '2023-06-30 18:00:40.464961'}>\n"
     ]
    },
    {
     "ename": "MilvusException",
     "evalue": "<MilvusException: (code=1, message=fail to get authorization from the md, authorize:[authorization])>",
     "output_type": "error",
     "traceback": [
      "\u001B[1;31m---------------------------------------------------------------------------\u001B[0m",
      "\u001B[1;31mMilvusException\u001B[0m                           Traceback (most recent call last)",
      "Cell \u001B[1;32mIn[9], line 6\u001B[0m\n\u001B[0;32m      3\u001B[0m \u001B[38;5;66;03m#role.create()\u001B[39;00m\n\u001B[0;32m      5\u001B[0m connect_to_milvus()\n\u001B[1;32m----> 6\u001B[0m \u001B[43mrole\u001B[49m\u001B[38;5;241;43m.\u001B[39;49m\u001B[43mgrant\u001B[49m\u001B[43m(\u001B[49m\u001B[38;5;124;43m\"\u001B[39;49m\u001B[38;5;124;43mCollection\u001B[39;49m\u001B[38;5;124;43m\"\u001B[39;49m\u001B[43m,\u001B[49m\u001B[43m \u001B[49m\u001B[38;5;124;43m\"\u001B[39;49m\u001B[38;5;124;43m*\u001B[39;49m\u001B[38;5;124;43m\"\u001B[39;49m\u001B[43m,\u001B[49m\u001B[43m \u001B[49m\u001B[43m_PRIVILEGE_INSERT\u001B[49m\u001B[43m)\u001B[49m\n\u001B[0;32m      7\u001B[0m \u001B[38;5;28mprint\u001B[39m(role\u001B[38;5;241m.\u001B[39mlist_grants())\n\u001B[0;32m      8\u001B[0m \u001B[38;5;28mprint\u001B[39m(role\u001B[38;5;241m.\u001B[39mlist_grant(\u001B[38;5;124m\"\u001B[39m\u001B[38;5;124mCollection\u001B[39m\u001B[38;5;124m\"\u001B[39m, \u001B[38;5;124m\"\u001B[39m\u001B[38;5;124m*\u001B[39m\u001B[38;5;124m\"\u001B[39m))\n",
      "File \u001B[1;32mC:\\ProgramData\\Anaconda3\\lib\\site-packages\\pymilvus\\orm\\role.py:152\u001B[0m, in \u001B[0;36mRole.grant\u001B[1;34m(self, object, object_name, privilege, db_name)\u001B[0m\n\u001B[0;32m    134\u001B[0m \u001B[38;5;28;01mdef\u001B[39;00m \u001B[38;5;21mgrant\u001B[39m(\u001B[38;5;28mself\u001B[39m, \u001B[38;5;28mobject\u001B[39m: \u001B[38;5;28mstr\u001B[39m, object_name: \u001B[38;5;28mstr\u001B[39m, privilege: \u001B[38;5;28mstr\u001B[39m, db_name: \u001B[38;5;28mstr\u001B[39m \u001B[38;5;241m=\u001B[39m \u001B[38;5;124m\"\u001B[39m\u001B[38;5;124mdefault\u001B[39m\u001B[38;5;124m\"\u001B[39m):\n\u001B[0;32m    135\u001B[0m     \u001B[38;5;124;03m\"\"\" Grant a privilege for the role\u001B[39;00m\n\u001B[0;32m    136\u001B[0m \u001B[38;5;124;03m        :param object: object type.\u001B[39;00m\n\u001B[0;32m    137\u001B[0m \u001B[38;5;124;03m        :type  object: str\u001B[39;00m\n\u001B[1;32m   (...)\u001B[0m\n\u001B[0;32m    150\u001B[0m \u001B[38;5;124;03m        >>> role.grant(\"Collection\", collection_name, \"Insert\")\u001B[39;00m\n\u001B[0;32m    151\u001B[0m \u001B[38;5;124;03m    \"\"\"\u001B[39;00m\n\u001B[1;32m--> 152\u001B[0m     \u001B[38;5;28;01mreturn\u001B[39;00m \u001B[38;5;28;43mself\u001B[39;49m\u001B[38;5;241;43m.\u001B[39;49m\u001B[43m_get_connection\u001B[49m\u001B[43m(\u001B[49m\u001B[43m)\u001B[49m\u001B[38;5;241;43m.\u001B[39;49m\u001B[43mgrant_privilege\u001B[49m\u001B[43m(\u001B[49m\u001B[38;5;28;43mself\u001B[39;49m\u001B[38;5;241;43m.\u001B[39;49m\u001B[43m_name\u001B[49m\u001B[43m,\u001B[49m\u001B[43m \u001B[49m\u001B[38;5;28;43mobject\u001B[39;49m\u001B[43m,\u001B[49m\u001B[43m \u001B[49m\u001B[43mobject_name\u001B[49m\u001B[43m,\u001B[49m\u001B[43m \u001B[49m\u001B[43mprivilege\u001B[49m\u001B[43m,\u001B[49m\u001B[43m \u001B[49m\u001B[43mdb_name\u001B[49m\u001B[43m)\u001B[49m\n",
      "File \u001B[1;32mC:\\ProgramData\\Anaconda3\\lib\\site-packages\\pymilvus\\decorators.py:109\u001B[0m, in \u001B[0;36merror_handler.<locals>.wrapper.<locals>.handler\u001B[1;34m(*args, **kwargs)\u001B[0m\n\u001B[0;32m    107\u001B[0m     record_dict[\u001B[38;5;124m\"\u001B[39m\u001B[38;5;124mRPC error\u001B[39m\u001B[38;5;124m\"\u001B[39m] \u001B[38;5;241m=\u001B[39m \u001B[38;5;28mstr\u001B[39m(datetime\u001B[38;5;241m.\u001B[39mdatetime\u001B[38;5;241m.\u001B[39mnow())\n\u001B[0;32m    108\u001B[0m     LOGGER\u001B[38;5;241m.\u001B[39merror(\u001B[38;5;124mf\u001B[39m\u001B[38;5;124m\"\u001B[39m\u001B[38;5;124mRPC error: [\u001B[39m\u001B[38;5;132;01m{\u001B[39;00minner_name\u001B[38;5;132;01m}\u001B[39;00m\u001B[38;5;124m], \u001B[39m\u001B[38;5;132;01m{\u001B[39;00me\u001B[38;5;132;01m}\u001B[39;00m\u001B[38;5;124m, <Time:\u001B[39m\u001B[38;5;132;01m{\u001B[39;00mrecord_dict\u001B[38;5;132;01m}\u001B[39;00m\u001B[38;5;124m>\u001B[39m\u001B[38;5;124m\"\u001B[39m)\n\u001B[1;32m--> 109\u001B[0m     \u001B[38;5;28;01mraise\u001B[39;00m e\n\u001B[0;32m    110\u001B[0m \u001B[38;5;28;01mexcept\u001B[39;00m grpc\u001B[38;5;241m.\u001B[39mFutureTimeoutError \u001B[38;5;28;01mas\u001B[39;00m e:\n\u001B[0;32m    111\u001B[0m     record_dict[\u001B[38;5;124m\"\u001B[39m\u001B[38;5;124mgRPC timeout\u001B[39m\u001B[38;5;124m\"\u001B[39m] \u001B[38;5;241m=\u001B[39m \u001B[38;5;28mstr\u001B[39m(datetime\u001B[38;5;241m.\u001B[39mdatetime\u001B[38;5;241m.\u001B[39mnow())\n",
      "File \u001B[1;32mC:\\ProgramData\\Anaconda3\\lib\\site-packages\\pymilvus\\decorators.py:105\u001B[0m, in \u001B[0;36merror_handler.<locals>.wrapper.<locals>.handler\u001B[1;34m(*args, **kwargs)\u001B[0m\n\u001B[0;32m    103\u001B[0m \u001B[38;5;28;01mtry\u001B[39;00m:\n\u001B[0;32m    104\u001B[0m     record_dict[\u001B[38;5;124m\"\u001B[39m\u001B[38;5;124mRPC start\u001B[39m\u001B[38;5;124m\"\u001B[39m] \u001B[38;5;241m=\u001B[39m \u001B[38;5;28mstr\u001B[39m(datetime\u001B[38;5;241m.\u001B[39mdatetime\u001B[38;5;241m.\u001B[39mnow())\n\u001B[1;32m--> 105\u001B[0m     \u001B[38;5;28;01mreturn\u001B[39;00m func(\u001B[38;5;241m*\u001B[39margs, \u001B[38;5;241m*\u001B[39m\u001B[38;5;241m*\u001B[39mkwargs)\n\u001B[0;32m    106\u001B[0m \u001B[38;5;28;01mexcept\u001B[39;00m MilvusException \u001B[38;5;28;01mas\u001B[39;00m e:\n\u001B[0;32m    107\u001B[0m     record_dict[\u001B[38;5;124m\"\u001B[39m\u001B[38;5;124mRPC error\u001B[39m\u001B[38;5;124m\"\u001B[39m] \u001B[38;5;241m=\u001B[39m \u001B[38;5;28mstr\u001B[39m(datetime\u001B[38;5;241m.\u001B[39mdatetime\u001B[38;5;241m.\u001B[39mnow())\n",
      "File \u001B[1;32mC:\\ProgramData\\Anaconda3\\lib\\site-packages\\pymilvus\\decorators.py:136\u001B[0m, in \u001B[0;36mtracing_request.<locals>.wrapper.<locals>.handler\u001B[1;34m(self, *args, **kwargs)\u001B[0m\n\u001B[0;32m    134\u001B[0m \u001B[38;5;28;01mif\u001B[39;00m req_id:\n\u001B[0;32m    135\u001B[0m     \u001B[38;5;28mself\u001B[39m\u001B[38;5;241m.\u001B[39mset_onetime_request_id(req_id)\n\u001B[1;32m--> 136\u001B[0m ret \u001B[38;5;241m=\u001B[39m func(\u001B[38;5;28mself\u001B[39m, \u001B[38;5;241m*\u001B[39margs, \u001B[38;5;241m*\u001B[39m\u001B[38;5;241m*\u001B[39mkwargs)\n\u001B[0;32m    137\u001B[0m \u001B[38;5;28;01mreturn\u001B[39;00m ret\n",
      "File \u001B[1;32mC:\\ProgramData\\Anaconda3\\lib\\site-packages\\pymilvus\\decorators.py:85\u001B[0m, in \u001B[0;36mretry_on_rpc_failure.<locals>.wrapper.<locals>.handler\u001B[1;34m(self, *args, **kwargs)\u001B[0m\n\u001B[0;32m     83\u001B[0m         back_off \u001B[38;5;241m=\u001B[39m \u001B[38;5;28mmin\u001B[39m(back_off \u001B[38;5;241m*\u001B[39m back_off_multiplier, max_back_off)\n\u001B[0;32m     84\u001B[0m     \u001B[38;5;28;01melse\u001B[39;00m:\n\u001B[1;32m---> 85\u001B[0m         \u001B[38;5;28;01mraise\u001B[39;00m e\n\u001B[0;32m     86\u001B[0m \u001B[38;5;28;01mexcept\u001B[39;00m \u001B[38;5;167;01mException\u001B[39;00m \u001B[38;5;28;01mas\u001B[39;00m e:\n\u001B[0;32m     87\u001B[0m     \u001B[38;5;28;01mraise\u001B[39;00m e\n",
      "File \u001B[1;32mC:\\ProgramData\\Anaconda3\\lib\\site-packages\\pymilvus\\decorators.py:50\u001B[0m, in \u001B[0;36mretry_on_rpc_failure.<locals>.wrapper.<locals>.handler\u001B[1;34m(self, *args, **kwargs)\u001B[0m\n\u001B[0;32m     48\u001B[0m \u001B[38;5;28;01mwhile\u001B[39;00m \u001B[38;5;28;01mTrue\u001B[39;00m:\n\u001B[0;32m     49\u001B[0m     \u001B[38;5;28;01mtry\u001B[39;00m:\n\u001B[1;32m---> 50\u001B[0m         \u001B[38;5;28;01mreturn\u001B[39;00m func(\u001B[38;5;28mself\u001B[39m, \u001B[38;5;241m*\u001B[39margs, \u001B[38;5;241m*\u001B[39m\u001B[38;5;241m*\u001B[39mkwargs)\n\u001B[0;32m     51\u001B[0m     \u001B[38;5;28;01mexcept\u001B[39;00m grpc\u001B[38;5;241m.\u001B[39mRpcError \u001B[38;5;28;01mas\u001B[39;00m e:\n\u001B[0;32m     52\u001B[0m         \u001B[38;5;66;03m# DEADLINE_EXCEEDED means that the task wat not completed\u001B[39;00m\n\u001B[0;32m     53\u001B[0m         \u001B[38;5;66;03m# UNAVAILABLE means that the service is not reachable currently\u001B[39;00m\n\u001B[0;32m     54\u001B[0m         \u001B[38;5;66;03m# Reference: https://grpc.github.io/grpc/python/grpc.html#grpc-status-code\u001B[39;00m\n\u001B[0;32m     55\u001B[0m         \u001B[38;5;28;01mif\u001B[39;00m e\u001B[38;5;241m.\u001B[39mcode() \u001B[38;5;241m!=\u001B[39m grpc\u001B[38;5;241m.\u001B[39mStatusCode\u001B[38;5;241m.\u001B[39mDEADLINE_EXCEEDED \u001B[38;5;129;01mand\u001B[39;00m e\u001B[38;5;241m.\u001B[39mcode() \u001B[38;5;241m!=\u001B[39m grpc\u001B[38;5;241m.\u001B[39mStatusCode\u001B[38;5;241m.\u001B[39mUNAVAILABLE:\n",
      "File \u001B[1;32mC:\\ProgramData\\Anaconda3\\lib\\site-packages\\pymilvus\\client\\grpc_handler.py:1229\u001B[0m, in \u001B[0;36mGrpcHandler.grant_privilege\u001B[1;34m(self, role_name, object, object_name, privilege, db_name, timeout, **kwargs)\u001B[0m\n\u001B[0;32m   1227\u001B[0m resp \u001B[38;5;241m=\u001B[39m \u001B[38;5;28mself\u001B[39m\u001B[38;5;241m.\u001B[39m_stub\u001B[38;5;241m.\u001B[39mOperatePrivilege(req, wait_for_ready\u001B[38;5;241m=\u001B[39m\u001B[38;5;28;01mTrue\u001B[39;00m, timeout\u001B[38;5;241m=\u001B[39mtimeout)\n\u001B[0;32m   1228\u001B[0m \u001B[38;5;28;01mif\u001B[39;00m resp\u001B[38;5;241m.\u001B[39merror_code \u001B[38;5;241m!=\u001B[39m \u001B[38;5;241m0\u001B[39m:\n\u001B[1;32m-> 1229\u001B[0m     \u001B[38;5;28;01mraise\u001B[39;00m MilvusException(resp\u001B[38;5;241m.\u001B[39merror_code, resp\u001B[38;5;241m.\u001B[39mreason)\n",
      "\u001B[1;31mMilvusException\u001B[0m: <MilvusException: (code=1, message=fail to get authorization from the md, authorize:[authorization])>"
     ]
    }
   ],
   "source": [
    "#has some issue, need try next time\n",
    "connect_to_milvus()\n",
    "role = Role(_ROLE_NAME)\n",
    "role.create()\n",
    "\n",
    "connect_to_milvus()\n",
    "role.grant(\"Collection\", \"*\", _PRIVILEGE_INSERT)\n",
    "print(role.list_grants())\n",
    "print(role.list_grant(\"Collection\", \"*\"))\n",
    "role.revoke(\"Global\", \"*\", _PRIVILEGE_INSERT)"
   ],
   "metadata": {
    "collapsed": false,
    "ExecuteTime": {
     "end_time": "2023-06-30T10:00:40.563301600Z",
     "start_time": "2023-06-30T10:00:07.642625500Z"
    }
   }
  },
  {
   "cell_type": "code",
   "execution_count": null,
   "outputs": [],
   "source": [],
   "metadata": {
    "collapsed": false
   }
  }
 ],
 "metadata": {
  "kernelspec": {
   "display_name": "Python 3",
   "language": "python",
   "name": "python3"
  },
  "language_info": {
   "codemirror_mode": {
    "name": "ipython",
    "version": 2
   },
   "file_extension": ".py",
   "mimetype": "text/x-python",
   "name": "python",
   "nbconvert_exporter": "python",
   "pygments_lexer": "ipython2",
   "version": "2.7.6"
  }
 },
 "nbformat": 4,
 "nbformat_minor": 0
}
